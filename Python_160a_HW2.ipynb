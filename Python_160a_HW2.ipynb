{
 "cells": [
  {
   "cell_type": "markdown",
   "metadata": {
    "id": "6V0v2R7CS3jD",
    "pycharm": {
     "name": "#%% md\n"
    }
   },
   "source": [
    "# Python Homework 2\n",
    "\n",
    "**Release date:** Thursday, October 26<br>\n",
    "**Due date:** Wednesday, __November 8th  (!)__, at midnight via <font color=\"blue\">Gradescope</font>\n",
    "\n",
    "**Instruction:** Please upload your jupyter notebook on <font color=\"blue\">Gradescope</font> with filename __PythonHW2_YOURPERMNUMBER.ipynb__.\n"
   ]
  },
  {
   "cell_type": "markdown",
   "metadata": {
    "id": "3Y4RiKn5S3jG",
    "pycharm": {
     "name": "#%% md\n"
    }
   },
   "source": [
    "Load some packages:"
   ]
  },
  {
   "cell_type": "code",
   "execution_count": 1,
   "metadata": {
    "id": "ILMxIgwPS3jG",
    "pycharm": {
     "name": "#%%\n"
    }
   },
   "outputs": [],
   "source": [
    "import numpy as np\n",
    "import matplotlib.pyplot as plt\n",
    "\n",
    "# LOAD MORE PACKAGES IF NEEDED"
   ]
  },
  {
   "cell_type": "markdown",
   "metadata": {
    "id": "V-lIsVhNS3jI",
    "pycharm": {
     "name": "#%% md\n"
    }
   },
   "source": [
    "## Problem 1 (10 Points)\n",
    "\n",
    "Consider the continuous-time __Registration Line Markov Chain__ from Example 2.13 (Lecture 7).\n",
    "\n",
    "1. Implement a simulation of this Markov chain on the time interval $[0,60]$."
   ]
  },
  {
   "cell_type": "code",
   "execution_count": 2,
   "metadata": {
    "id": "5eVYdMBrS3jI",
    "pycharm": {
     "name": "#%%\n"
    }
   },
   "outputs": [],
   "source": [
    "# Define the generator matrix (Q-matrix)\n",
    "Qm = np.array([[-1/4, 1/4, 0, 0, 0],\n",
    "               [1/5, -9/20, 1/4, 0, 0],\n",
    "               [0, 1/5, -9/20, 1/4, 0],\n",
    "               [0, 0, 1/5, -9/20, 1/4],\n",
    "               [0, 0, 0, 1/5, -1/5]])\n",
    "\n",
    "# Define the state space\n",
    "ss = [0, 1, 2, 3, 4]\n",
    "\n",
    "# Function to simulate the Markov chain\n",
    "\n",
    "def sim_mc(Q, ss, s0, et):\n",
    "    cs = s0\n",
    "    ct = 0\n",
    "    ts = [] # List to store state and the time at which transition happens\n",
    "    \n",
    "    while ct < et:\n",
    "        # Rates of leaving the current state\n",
    "        lr = Q[cs]\n",
    "\n",
    "        # The diagonal element is negative sum of the row\n",
    "        rt = -lr[cs]\n",
    "\n",
    "        # Generate the holding time\n",
    "        ht = np.random.exponential(1/rt)\n",
    "\n",
    "        # Update the current time\n",
    "        ct += ht\n",
    "        if ct >= et: break\n",
    "\n",
    "        # Choose the next state (weighted by the transition rates)\n",
    "        probs = np.abs(lr) / rt\n",
    "        probs[cs] = 0.0\n",
    "        ns = np.random.choice(ss, p=probs)\n",
    "        ts.append((ct, ns))\n",
    "\n",
    "        # Update the current state\n",
    "        cs = ns\n",
    "    return ts\n"
   ]
  },
  {
   "cell_type": "markdown",
   "metadata": {
    "id": "fOMQH9tjS3jI",
    "pycharm": {
     "name": "#%% md\n"
    }
   },
   "source": [
    "2. Plot a trajectory of this Markov Chain on $[0,60]$ by using your code from 1.\n",
    "\n",
    "<i>Hint:</i> You can use the <tt>plt.hlines()</tt> command to plot horizontal lines (check also the documentation online)."
   ]
  },
  {
   "cell_type": "code",
   "execution_count": 3,
   "metadata": {
    "colab": {
     "base_uri": "https://localhost:8080/",
     "height": 430
    },
    "id": "G-iV9-kpS3jJ",
    "outputId": "4fe9b644-d328-47f8-dbf2-6975b1dd10b7",
    "pycharm": {
     "name": "#%%\n"
    }
   },
   "outputs": [
    {
     "data": {
      "image/png": "[encoded data removed]",
      "text/plain": [
       "<Figure size 1000x600 with 1 Axes>"
      ]
     },
     "metadata": {},
     "output_type": "display_data"
    }
   ],
   "source": [
    "np.random.seed(123)\n",
    "\n",
    "# Simulate a single Markov chain trajectory\n",
    "trj = sim_mc(Qm, ss, 0, 60)\n",
    "\n",
    "# Set up the plot\n",
    "plt.figure(figsize=(10, 6))\n",
    "\n",
    "# Initial state\n",
    "cs, st = 0, 0\n",
    "\n",
    "# Plot the horizontal lines for the trajectory\n",
    "for tt, ns in trj:\n",
    "    plt.hlines(cs, st, tt, colors='b')\n",
    "    st, cs = tt, ns\n",
    "\n",
    "# Plot the last segment until end_time\n",
    "plt.hlines(cs, st, 60, colors='b')\n",
    "\n",
    "# Set the y-axis ticks to correspond to the state space\n",
    "plt.yticks(ss)\n",
    "\n",
    "# Set labels and title\n",
    "plt.xlabel('Time')\n",
    "plt.ylabel('State')\n",
    "plt.title('Trajectory of the Markov Chain [0,60]')\n",
    "\n",
    "# Show grid and plot\n",
    "plt.grid(True)\n",
    "plt.show()"
   ]
  },
  {
   "cell_type": "markdown",
   "metadata": {
    "id": "EE5tBKjCS3jJ",
    "pycharm": {
     "name": "#%% md\n"
    }
   },
   "source": [
    "3. Compute the transition function $P(t)$ at $t = \\pi$.\n",
    "\n",
    "*Hint:* Use a suitable function from the <tt>scipy.linalg</tt> package (check also the documentation online)."
   ]
  },
  {
   "cell_type": "code",
   "execution_count": 4,
   "metadata": {
    "colab": {
     "base_uri": "https://localhost:8080/"
    },
    "id": "nFK3megmS3jK",
    "outputId": "7aef2ada-305d-4454-d05a-76c5b9869062",
    "pycharm": {
     "name": "#%%\n"
    }
   },
   "outputs": [
    {
     "data": {
      "text/plain": [
       "array([[0.55524989, 0.308565  , 0.10512926, 0.02554735, 0.00550851],\n",
       "       [0.246852  , 0.3925013 , 0.24489947, 0.08909819, 0.02664905],\n",
       "       [0.06728272, 0.19591958, 0.37967644, 0.24578083, 0.11134043],\n",
       "       [0.01308024, 0.05702284, 0.19662467, 0.39747023, 0.33580202],\n",
       "       [0.00225628, 0.01364431, 0.07125787, 0.26864162, 0.64419991]])"
      ]
     },
     "execution_count": 4,
     "metadata": {},
     "output_type": "execute_result"
    }
   ],
   "source": [
    "from scipy.linalg import expm\n",
    "t = np.pi\n",
    "Pt = expm(Qm * t)\n",
    "Pt"
   ]
  },
  {
   "cell_type": "markdown",
   "metadata": {
    "id": "dQSHuzJUS3jK",
    "pycharm": {
     "name": "#%% md\n"
    }
   },
   "source": [
    "4. Compute the stationary distribution of this continuous-time Markov chain.\n",
    "\n",
    "*Hint:* Use suitable functions from the <tt>numpy.linalg package</tt> (check also the documentation online)."
   ]
  },
  {
   "cell_type": "code",
   "execution_count": 5,
   "metadata": {
    "colab": {
     "base_uri": "https://localhost:8080/"
    },
    "id": "hXlHkE41S3jK",
    "outputId": "6022be20-93a7-4131-c7b1-f3f10ca3145b",
    "pycharm": {
     "name": "#%%\n"
    }
   },
   "outputs": [
    {
     "data": {
      "text/plain": [
       "array([0.12184674, 0.15230842, 0.19038553, 0.23798191, 0.29747739])"
      ]
     },
     "execution_count": 5,
     "metadata": {},
     "output_type": "execute_result"
    }
   ],
   "source": [
    "# Modify the Q matrix to accommodate the constraint sum(pi) = 1\n",
    "# We take the transpose of Q for the left side of the equations\n",
    "Am = Qm.T\n",
    "Am[-1, :] = 1  # This replaces the last row with ones for the constraint sum(pi_i) = 1\n",
    "\n",
    "# Define b as a zero vector with a 1 at the end for the constraint equation\n",
    "bm = np.zeros(len(Qm))\n",
    "bm[-1] = 1  # This sets the last element to 1 for the constraint sum(pi_i) = 1\n",
    "\n",
    "# Solve the system of equations A.T * pi = b\n",
    "pi = np.linalg.solve(Am, bm) # This may raise a LinAlgError if A is singular\n",
    "pi"
   ]
  },
  {
   "cell_type": "code",
   "execution_count": 6,
   "metadata": {
    "colab": {
     "base_uri": "https://localhost:8080/"
    },
    "id": "C3-piOujl-pR",
    "outputId": "1577ea19-9dd8-4a64-d507-80461d1601a1"
   },
   "outputs": [
    {
     "name": "stdout",
     "output_type": "stream",
     "text": [
      "[-3.46944695e-18  0.00000000e+00  1.38777878e-17 -1.38777878e-17\n",
      "  1.00000000e+00]\n"
     ]
    }
   ],
   "source": [
    "print(pi.dot(Qm)) # check the answer"
   ]
  },
  {
   "cell_type": "markdown",
   "metadata": {
    "id": "-f_lNbrOS3jK",
    "pycharm": {
     "name": "#%% md\n"
    }
   },
   "source": [
    "## Problem 2 (10 Points)\n",
    "\n",
    "Multistate Markov models are used in medicine to model the course of diseases. A patient may advance into, or recover from, successively more severe stages of a disease until some terminal state. Each stage represents a state of an absorbing continuous-time Markov chain.\n",
    "\n",
    "Bartolomeo et al. (2011) develop such a model to study the progression of liver disease among patients diagnosed with cirrhosis of the liver. The general form of the infinitesimal generator matrix $Q$ for their three-parameter model is\n",
    "\n",
    "$$ Q = \\begin{pmatrix} -(q_{12} + q_{13}) & q_{12} & q_{13} \\\\ 0 & -q_{23} & q_{23} \\\\ 0 & 0 & 0 \\end{pmatrix}  $$\n",
    "\n",
    "where state 1 represents cirrhosis, state 2 denotes liver cancer, and state 3 is death."
   ]
  },
  {
   "cell_type": "markdown",
   "metadata": {
    "id": "vnKWe4c0S3jK",
    "pycharm": {
     "name": "#%% md\n"
    }
   },
   "source": [
    "1. Starting from the first stage (\"cirrhosis\"), estimate the mean time to death (i.e. ending up in stage 3) by running 100,000 simulations. Use the transition rates\n",
    "\n",
    "$$ q_{12} = 0.0151, \\quad q_{13} = 0.0071, \\quad q_{23} = 0.0284.$$"
   ]
  },
  {
   "cell_type": "code",
   "execution_count": 7,
   "metadata": {
    "colab": {
     "base_uri": "https://localhost:8080/"
    },
    "id": "iYWQDLdgS3jK",
    "outputId": "1b30cd02-1527-484d-a8eb-623bbfd416a6",
    "pycharm": {
     "name": "#%%\n"
    }
   },
   "outputs": [
    {
     "name": "stdout",
     "output_type": "stream",
     "text": [
      "68.94944715958626\n"
     ]
    }
   ],
   "source": [
    "from pickle import TRUE\n",
    "np.random.seed(1234)\n",
    "n = 100000\n",
    "\n",
    "sl = np.zeros(n)\n",
    "init = 1 # initial state of liver cirrhosis\n",
    "q12, q13, q23 = 0.0151, 0.0071, 0.0284\n",
    "\n",
    "for i in range(n):\n",
    "    s, t = init, 0\n",
    "    while True:\n",
    "        if s == 1:\n",
    "            tt12 = np.random.exponential(1/q12)\n",
    "            tt13 = np.random.exponential(1/q13)\n",
    "            if tt12 < tt13:\n",
    "                t += tt12\n",
    "                s = 2\n",
    "            else:\n",
    "                t += tt13\n",
    "                break\n",
    "          \n",
    "        if s == 2:\n",
    "            tt23 = np.random.exponential(1/q23)\n",
    "            t += tt23\n",
    "            break\n",
    "\n",
    "    sl[i] = t\n",
    "\n",
    "mean_ttd = np.mean(sl)\n",
    "print(mean_ttd)"
   ]
  },
  {
   "cell_type": "markdown",
   "metadata": {
    "id": "lFw7XvrcS3jL",
    "pycharm": {
     "name": "#%% md\n"
    }
   },
   "source": [
    "2. Compare your approximation from 1. with the exact theoretical mean time to death (implement a suitable formula from class).  "
   ]
  },
  {
   "cell_type": "code",
   "execution_count": 8,
   "metadata": {
    "colab": {
     "base_uri": "https://localhost:8080/"
    },
    "id": "xXO-j8FLS3jL",
    "outputId": "dc87f5f8-763a-422b-d26e-3d998e763b03",
    "pycharm": {
     "name": "#%%\n"
    }
   },
   "outputs": [
    {
     "name": "stdout",
     "output_type": "stream",
     "text": [
      "68.99505138941758\n"
     ]
    }
   ],
   "source": [
    "# Generator matrix Q\n",
    "Qm = np.array([[-(q12 + q13), q12, q13],\n",
    "               [0, -q23, q23],\n",
    "               [0, 0, 0]])\n",
    "\n",
    "Fm = -np.linalg.inv(Qm[:2, :2])\n",
    "\n",
    "# Calculate the mean time to absorption from state 1\n",
    "ttd_theory = np.sum(Fm[0, :])\n",
    "print(ttd_theory)"
   ]
  },
  {
   "cell_type": "code",
   "execution_count": null,
   "metadata": {},
   "outputs": [],
   "source": []
  }
 ],
 "metadata": {
  "colab": {
   "provenance": []
  },
  "kernelspec": {
   "display_name": "Python 3 (ipykernel)",
   "language": "python",
   "name": "python3"
  },
  "language_info": {
   "codemirror_mode": {
    "name": "ipython",
    "version": 3
   },
   "file_extension": ".py",
   "mimetype": "text/x-python",
   "name": "python",
   "nbconvert_exporter": "python",
   "pygments_lexer": "ipython3",
   "version": "3.11.6"
  }
 },
 "nbformat": 4,
 "nbformat_minor": 4
}
