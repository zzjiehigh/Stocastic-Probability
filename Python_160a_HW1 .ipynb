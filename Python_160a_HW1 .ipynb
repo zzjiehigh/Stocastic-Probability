{
  "cells": [
    {
      "cell_type": "markdown",
      "metadata": {
        "id": "AFC5n7l3ro8L"
      },
      "source": [
        "## PSTAT 160A Summer 2023 Python Homework 1\n",
        "\n",
        "**Release date:** Monday, August 7th <br>\n",
        "**Due date:** Wednesday, August 16th, 11:59 p.m. via Gradescope\n",
        "\n",
        "**Instructions:** Please upload your IPYNB file on Gradescope with filename \"PythonHW1_YOURPERMNUMBER\".\n"
      ]
    },
    {
      "cell_type": "markdown",
      "metadata": {
        "id": "mhMUTiW4ro8P"
      },
      "source": [
        "As usual, we start with loading some packages:"
      ]
    },
    {
      "cell_type": "code",
      "execution_count": 10,
      "metadata": {
        "id": "KJeWXv1lro8P"
      },
      "outputs": [],
      "source": [
        "import numpy as np\n",
        "import random"
      ]
    },
    {
      "cell_type": "code",
      "source": [],
      "metadata": {
        "id": "85PTSgmQvGm_"
      },
      "execution_count": null,
      "outputs": []
    },
    {
      "cell_type": "markdown",
      "metadata": {
        "id": "fTzBCNQsro8R"
      },
      "source": [
        "## Problem 1 (5 points)"
      ]
    },
    {
      "cell_type": "markdown",
      "metadata": {
        "id": "Xl6F8X5Nro8R"
      },
      "source": [
        "1. Implement the simulation of a biased 6-sided die which takes the values 1,2,3,4,5,6 with probabilities 0.15,0.25,0.05,0.25,0.10,0.2."
      ]
    },
    {
      "cell_type": "code",
      "execution_count": 3,
      "metadata": {
        "id": "MG97ucsNro8R"
      },
      "outputs": [],
      "source": [
        "import numpy.random as npr\n",
        "npr.seed(160)\n",
        "# WRITE YOUR OWN CODE HERE! FEEL FREE TO INSERT MORE CELLS!\n",
        "# BE SURE TO ADD SOME COMMENTS TO YOUR CODE!\n",
        "\n",
        "def biased_die_roll(n):\n",
        "    # Define values and their corresponding probabilities\n",
        "    values = [1, 2, 3, 4, 5, 6]\n",
        "    probs = [0.15, 0.25, 0.05, 0.25, 0.10, 0.20]\n",
        "    cumulative_probs = [sum(probs[:i+1]) for i in range(len(probs))]\n",
        "\n",
        "    # Create a list of distribution of values and their corresponding cumulative probabilities\n",
        "    cum_dist = list(zip(values, cumulative_probs))\n",
        "\n",
        "    # Start an empty simulated list\n",
        "    simulated_list = []\n",
        "\n",
        "    for _ in range(n):\n",
        "        # Generate a random number between 0 and 1\n",
        "        random_number = random.random()\n",
        "\n",
        "        # Find the value associated with the generated random number\n",
        "        for value, cumulative_prob in cum_dist:\n",
        "            if random_number <= cumulative_prob:\n",
        "                simulated_list.append(value)\n",
        "                break\n",
        "\n",
        "    return simulated_list\n",
        "\n"
      ]
    },
    {
      "cell_type": "markdown",
      "metadata": {
        "id": "xW4JGcqTro8S"
      },
      "source": [
        "2. Plot a histogram with results of 1,000 simulations. Check if the relative counts of each die outcome are approximately equal to the corresponding specified probabilities.\n",
        "\n",
        "_Remark:_ Specify the bins of your histogram correctly."
      ]
    },
    {
      "cell_type": "code",
      "execution_count": 13,
      "metadata": {
        "colab": {
          "base_uri": "https://localhost:8080/",
          "height": 526
        },
        "id": "lHI174Fbro8S",
        "outputId": "5d357982-9bdc-456a-e058-80c90c1d5b2c"
      },
      "outputs": [
        {
          "output_type": "execute_result",
          "data": {
            "text/plain": [
              "(array([0.176, 0.246, 0.053, 0.226, 0.089, 0.21 ]),\n",
              " array([0.5, 1.5, 2.5, 3.5, 4.5, 5.5, 6.5]),\n",
              " <BarContainer object of 6 artists>)"
            ]
          },
          "metadata": {},
          "execution_count": 13
        },
        {
          "output_type": "display_data",
          "data": {
            "text/plain": [
              "<Figure size 640x480 with 1 Axes>"
            ],
            "image/png": "[encoded data removed]"
          },
          "metadata": {}
        }
      ],
      "source": [
        "# WRITE YOUR OWN CODE HERE! FEEL FREE TO INSERT MORE CELLS!\n",
        "# BE SURE TO ADD SOME COMMENTS TO YOUR CODE!\n",
        "import matplotlib\n",
        "import matplotlib.pyplot as plt\n",
        "\n",
        "# Simulate 1000 simulations roll and store the results\n",
        "simulation = 1000\n",
        "simulated_results = biased_die_roll(simulation)\n",
        "\n",
        "# Plotting the histogram\n",
        "\n",
        "plt.xlabel('Die Outcome')\n",
        "plt.ylabel('Relative Frequency')\n",
        "plt.title('Histogram of Biased Die Simulations')\n",
        "plt.hist(simulated_results, bins = [0.5, 1.5, 2.5, 3.5, 4.5, 5.5, 6.5], density = True, rwidth = 0.8)"
      ]
    },
    {
      "cell_type": "markdown",
      "metadata": {
        "id": "LDFzuvSvro8T"
      },
      "source": [
        "3. Plot a histogram with results of 100,000 simulations. Compare again the relative counts of each die outcomes to the specified probabilities. What do you find (summarize in 2-3 sentences).\n",
        "\n"
      ]
    },
    {
      "cell_type": "code",
      "execution_count": 22,
      "metadata": {
        "colab": {
          "base_uri": "https://localhost:8080/",
          "height": 526
        },
        "id": "fUm02Mbfro8T",
        "outputId": "365103fd-4116-4aca-d34b-b039843d5f18"
      },
      "outputs": [
        {
          "output_type": "execute_result",
          "data": {
            "text/plain": [
              "(array([0.15058, 0.25018, 0.0494 , 0.24848, 0.10046, 0.2009 ]),\n",
              " array([0.5, 1.5, 2.5, 3.5, 4.5, 5.5, 6.5]),\n",
              " <BarContainer object of 6 artists>)"
            ]
          },
          "metadata": {},
          "execution_count": 22
        },
        {
          "output_type": "display_data",
          "data": {
            "text/plain": [
              "<Figure size 640x480 with 1 Axes>"
            ],
            "image/png": "[encoded data removed]"
          },
          "metadata": {}
        }
      ],
      "source": [
        "# WRITE YOUR OWN CODE HERE! FEEL FREE TO INSERT MORE CELLS!\n",
        "# BE SURE TO ADD SOME COMMENTS TO YOUR CODE!\n",
        "# Simulate 100000 simulations roll and store the results\n",
        "simulation = 100000\n",
        "simulated_results = biased_die_roll(simulation)\n",
        "\n",
        "# Plotting the histogram\n",
        "\n",
        "plt.xlabel('Die Outcome')\n",
        "plt.ylabel('Relative Frequency')\n",
        "plt.title('Histogram of Biased Die Simulations')\n",
        "plt.hist(simulated_results, bins = [0.5, 1.5, 2.5, 3.5, 4.5, 5.5, 6.5], density = True, rwidth = 0.8)\n",
        "# I find out that realative frequency corredsponding with the die outcomes from 10000 simulations become closer to the probabilities we set than do 1000 simulations.\n",
        "# This could imply that more times of trail we do, more accurate result we get.\"\n"
      ]
    },
    {
      "cell_type": "markdown",
      "metadata": {
        "id": "BFUQudPqro8U"
      },
      "source": [
        "## Problem 2 (5 Points)\n",
        "\n",
        "Every day Mike goes to get coffee at Dune Coffee, and randomly orders one of cappuccino, latte, macchiato, espresso or flat white -- 5 choices that he picks uniformly at random."
      ]
    },
    {
      "cell_type": "markdown",
      "metadata": {
        "id": "l4bMkQmGro8U"
      },
      "source": [
        "1. Implement a simulator which uniformly samples from one of the 5 drinks above:"
      ]
    },
    {
      "cell_type": "code",
      "execution_count": null,
      "metadata": {
        "id": "bF1roZRmro8U"
      },
      "outputs": [],
      "source": [
        "np.random.seed(1000)\n",
        "# WRITE YOUR OWN CODE HERE! FEEL FREE TO INSERT MORE CELLS!\n",
        "# BE SURE TO ADD SOME COMMENTS TO YOUR CODE!\n",
        "import random\n",
        "\n",
        "def random_coffee(n):\n",
        "    # define the choices of coffee\n",
        "    coffee_choices = [\"cappuccino\", \"latte\", \"macchiato\", \"espresso\", \"flat white\"]\n",
        "    # staring an empty list of simulated coffee\n",
        "    simulated_coffee = []\n",
        "\n",
        "    for _ in range(n):\n",
        "        random_choice = random.choice(coffee_choices)\n",
        "        simulated_coffee.append(random_choice)\n",
        "\n",
        "    return simulated_coffee"
      ]
    },
    {
      "cell_type": "markdown",
      "metadata": {
        "id": "ztmfiqQ-ro8U"
      },
      "source": [
        "2. On the day that Mike first picks **espresso**, find the empricial _mean_ and empirical _standard deviation_ of the number of prior days in which he picked a **latte** by running 100,000 simulations. [This question is conceptually similar to the question about rolling 5's before the first '6' appears that was done in one of the videos -- now we re-solve it/verify the answer by simulation]\n",
        "\n"
      ]
    },
    {
      "cell_type": "code",
      "execution_count": null,
      "metadata": {
        "id": "2tluFK_Vro8U"
      },
      "outputs": [],
      "source": [
        "# WRITE YOUR OWN CODE HERE! FEEL FREE TO INSERT MORE CELLS!\n",
        "# BE SURE TO ADD SOME COMMENTS TO YOUR CODE!\n"
      ]
    },
    {
      "cell_type": "code",
      "execution_count": 19,
      "metadata": {
        "colab": {
          "base_uri": "https://localhost:8080/"
        },
        "id": "i6oxjY9Mro8U",
        "outputId": "7e84cea9-53ce-4a01-e171-fcc78063775c"
      },
      "outputs": [
        {
          "output_type": "stream",
          "name": "stdout",
          "text": [
            "Empirical Mean: 1.0022\n",
            "Empirical Standard Deviation: 1.415943205075684\n"
          ]
        }
      ],
      "source": [
        "npr.seed(1000)\n",
        "\n",
        "def simulate_coffee():\n",
        "    coffee_choices = [\"cappuccino\", \"latte\", \"macchiato\", \"espresso\", \"flat white\"]\n",
        "    espresso = False\n",
        "    latte_count_before_e = 0\n",
        "\n",
        "    while not espresso:\n",
        "        # get random coffee choice\n",
        "        coffee = npr.choice(coffee_choices)\n",
        "\n",
        "        if coffee == \"espresso\":\n",
        "            espresso = True\n",
        "        elif coffee == \"latte\":\n",
        "            latte_count_before_e += 1\n",
        "\n",
        "    return latte_count_before_e\n",
        "\n",
        "# Simulate 100,000 times and store latte counts before picking espresso\n",
        "simulations = 100000\n",
        "latte_counts = []\n",
        "\n",
        "for _ in range(simulations):\n",
        "  latte_count = simulate_coffee()\n",
        "  latte_counts.append(latte_count)\n",
        "\n",
        "# Finding empirical mean and empirical standard deviation\n",
        "empirical_mean = np.mean(latte_counts)\n",
        "empirical_std = np.std(latte_counts)\n",
        "\n",
        "print(\"Empirical Mean:\", empirical_mean)\n",
        "print(\"Empirical Standard Deviation:\", empirical_std)"
      ]
    }
  ],
  "metadata": {
    "kernelspec": {
      "display_name": "Python 3 (ipykernel)",
      "language": "python",
      "name": "python3"
    },
    "language_info": {
      "codemirror_mode": {
        "name": "ipython",
        "version": 3
      },
      "file_extension": ".py",
      "mimetype": "text/x-python",
      "name": "python",
      "nbconvert_exporter": "python",
      "pygments_lexer": "ipython3",
      "version": "3.9.13"
    },
    "colab": {
      "provenance": []
    }
  },
  "nbformat": 4,
  "nbformat_minor": 0
}