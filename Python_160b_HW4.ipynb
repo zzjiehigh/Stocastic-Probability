{
  "cells": [
    {
      "cell_type": "markdown",
      "metadata": {
        "pycharm": {
          "name": "#%% md\n"
        },
        "id": "zJN_74w6eKxz"
      },
      "source": [
        "# Python Homework 4\n",
        "\n",
        "**Release date:** Friday, Dec 1<br>\n",
        "**Due date:** Wednesday, Dec 13, at midnight (11:59pm) via <font color=\"blue\">Gradescope</font>\n",
        "\n",
        "**Instruction:** Please upload your jupyter notebook on <font color=\"blue\">Gradescope</font> with filename __PythonHW4_YOURPERMNUMBER.ipynb__.\n"
      ]
    },
    {
      "cell_type": "markdown",
      "metadata": {
        "pycharm": {
          "name": "#%% md\n"
        },
        "id": "RfRGsja1eKx1"
      },
      "source": [
        "__Background__: Let $(B_t)_{t\\geq 0}$ denote a standard Brownian motion. A so-called __stochastic differential equation (SDE)__ is an equation of the form\n",
        "\n",
        "\\begin{equation}\n",
        "    dX_t = b(X_t) \\, dt + \\sigma(X_t) \\, dB_t, \\quad X_0 = x,\n",
        "\\end{equation}\n",
        "  \n",
        "with starting value $x \\in \\mathbb{R}$ and two (deterministic) functions $b: \\mathbb{R} \\rightarrow \\mathbb{R}$, $\\sigma: \\mathbb{R} \\rightarrow \\mathbb{R}$ which are given.\n",
        "  \n",
        "The \"differential form\" in above SDE is just a shorthand notation. More precisely, solving the SDE means to find a stochastic process $(X_t)_{t \\geq 0}$ which satisfies the __integral equation__\n",
        "\n",
        "\\begin{equation}\n",
        "    X_t = x + \\int_0^t b(X_s) \\, ds + \\int_0^t \\sigma(X_s) \\, dB_s \\quad (t \\geq 0).\n",
        "\\end{equation}\n",
        "\n",
        "Note that the process $(X_t)_{t \\geq 0}$ appears on both sides of this equation. The first term\n",
        "\n",
        "\\begin{equation}\n",
        "    \\int_0^t b(X_s) \\, ds \\quad (t \\geq 0)\n",
        "\\end{equation}\n",
        "\n",
        "can be thought of as just integrating the (random) function $s \\mapsto b(X_s)$ over the interval $[0,t]$. However, the second term\n",
        "\n",
        "\\begin{equation}\n",
        "    \\int_0^t \\sigma(X_s) \\, dB_s \\quad (t \\geq 0)\n",
        "\\end{equation}\n",
        "\n",
        "is called a __stochastic integral__ of the (random) function $s \\mapsto \\sigma(X_s)$ with respect to Brownian motion $(B_s)_{0 \\leq s \\leq t}$ over the interval $[0,t]$. Of course, one has to make sense of this and we will discuss this a bit in Chapter 5 \"Introduction to Stochastic Calculus\" in Week 10.\n"
      ]
    },
    {
      "cell_type": "markdown",
      "metadata": {
        "pycharm": {
          "name": "#%% md\n"
        },
        "id": "vUbvR4vxeKx1"
      },
      "source": [
        "__Numerical Approximation of an SDE (Euler-Maruyama Method):__\n",
        "\n",
        "The differential form of a stochastic differential equation lends itself to an intuitive method for simulating the solution process $(X_t)_{t\\geq 0}$. Given the SDE\n",
        "\n",
        "\\begin{equation}\n",
        "    dX_t = b(X_t) \\, dt + \\sigma(X_t) \\, dB_t, \\quad X_0 = x,\n",
        "\\end{equation}\n",
        "\n",
        "the *Euler-Maruyama* method generates a discrete sequence $X_0, X_1, \\ldots, X_n$, which approximates the process $(X_t)_{0 \\leq t\\leq T}$ on an interval $[0,T]$.\n",
        "\n",
        "The idea is to partition the interval $[0,T]$ into $n$ equally spaced points\n",
        "\n",
        "\\begin{equation}\n",
        "    0 = t_0 < t_1 < t_2 < \\cdots < t_{n-1} < t_n = T\n",
        "\\end{equation}\n",
        "\n",
        "where $t_i = i \\cdot T/n$ for $i=0,1,\\ldots,n$, and to *discretize* the SDE via\n",
        "\n",
        "\\begin{equation}\n",
        "    X_{t_0} = x, \\quad X_{t_{i+1}} = X_{t_i} + b(X_{t_i}) \\cdot (t_{i+1} - t_{i}) + \\sigma(X_{t_i}) \\cdot (B_{t_{i+1}} - B_{t_{i}}) \\quad (i=0,1,\\ldots,n-1).\n",
        "\\end{equation}\n",
        "\n",
        "Note that in the SDE the differential $dX_{t_{i+1}}$ is approximated by $X_{t_{i+1}}-X_{t_i}$, $dt_{i+1}$ is approximated by $t_{i+1} - t_i$ and the stochastic differential $dB_{t_{i+1}}$ is approximated by the increment of the Brownian motion $B_{t_{i+1}} - B_{t_{i}}$.\n",
        "\n",
        "Above scheme defines recursively a sequence $X_{t_0}, X_{t_1},\\ldots,X_{t_n}$ which gives a *discretized approximate sample path* for $(X_t)_{0 \\leq t\\leq T}$. If $n$ is very large the approximation will be sufficiently good.\n"
      ]
    },
    {
      "cell_type": "markdown",
      "metadata": {
        "pycharm": {
          "name": "#%% md\n"
        },
        "id": "j6VfItjteKx2"
      },
      "source": [
        "Load some packages:"
      ]
    },
    {
      "cell_type": "code",
      "execution_count": null,
      "metadata": {
        "pycharm": {
          "name": "#%%\n"
        },
        "id": "XFKWPisYeKx2"
      },
      "outputs": [],
      "source": [
        "import numpy as np\n",
        "import matplotlib.pyplot as plt"
      ]
    },
    {
      "cell_type": "markdown",
      "metadata": {
        "pycharm": {
          "name": "#%% md\n"
        },
        "id": "z--rNsgEeKx3"
      },
      "source": [
        "## Problem 1 (20 Points)\n",
        "\n",
        "1. Simulate the solution $(X_t)_{0 \\leq t \\leq T}$ of the SDE\n",
        "\n",
        "\\begin{equation}\n",
        "    dX_t = -r \\cdot (X_t - \\mu) \\, dt + \\sigma \\, dB_t \\quad (0 \\leq t \\leq T), \\quad X_0 = 1,\n",
        "\\end{equation}\n",
        "\n",
        "by using the Euler-Maruyama method. Choose $r=0.2$, $\\mu=-0.5$, $\\sigma = 0.2$, $T=10$ and $n = 1000$."
      ]
    },
    {
      "cell_type": "code",
      "execution_count": null,
      "metadata": {
        "pycharm": {
          "name": "#%%\n"
        },
        "id": "AKuq2TX7eKx3"
      },
      "outputs": [],
      "source": [
        "# WRITE YOUR OWN CODE HERE! FEEL FREE TO INSERT MORE CELLS!\n",
        "# ADD SOME COMMENTS TO YOUR CODE!\n",
        "np.random.seed(1014)\n",
        "# SDE parameters\n",
        "r = 0.2\n",
        "mu = -0.5\n",
        "sigma = 0.2\n",
        "T = 10\n",
        "n = 1000\n",
        "X_0 = 1\n",
        "\n",
        "def simulate_SDE(n):\n",
        "    dt = T / n\n",
        "    t = np.linspace(0, T, n+1)\n",
        "    X = np.zeros(n+1)\n",
        "    X[0] = X_0\n",
        "    for i in range(n):\n",
        "        dB = np.random.normal(0, np.sqrt(dt))\n",
        "        X[i+1] = X[i] - r * (X[i] - mu) * dt + sigma * dB\n",
        "    return X"
      ]
    },
    {
      "cell_type": "markdown",
      "metadata": {
        "pycharm": {
          "name": "#%% md\n"
        },
        "id": "xqm8hI-leKx3"
      },
      "source": [
        "2. Use your code from 1.) to plot a discretized approximate sample path (realization) of $(X_t)_{0 \\leq t \\leq 10}$ on $[0,10]$."
      ]
    },
    {
      "cell_type": "code",
      "execution_count": null,
      "metadata": {
        "pycharm": {
          "name": "#%%\n"
        },
        "colab": {
          "base_uri": "https://localhost:8080/",
          "height": 472
        },
        "id": "Hm8b0oqYeKx3",
        "outputId": "c0285bf9-cea4-4c2e-b154-9ded76aeb1d8"
      },
      "outputs": [
        {
          "output_type": "display_data",
          "data": {
            "text/plain": [
              "<Figure size 640x480 with 1 Axes>"
            ],
            "image/png": "[encoded data removed]"
          },
          "metadata": {}
        }
      ],
      "source": [
        "# WRITE YOUR OWN CODE HERE! FEEL FREE TO INSERT MORE CELLS!\n",
        "# ADD SOME COMMENTS TO YOUR CODE!\n",
        "X = simulate_SDE(n)\n",
        "t = np.linspace(0, 10, 1000+1)\n",
        "# Plot the discretized approximate sample path\n",
        "plt.plot(t,X)\n",
        "plt.title(\"Simulation of SDE using Euler-Maruyama Method\")\n",
        "plt.xlabel(\"Time t\")\n",
        "plt.ylabel(\"$X_t$\")\n",
        "plt.show()"
      ]
    },
    {
      "cell_type": "markdown",
      "metadata": {
        "pycharm": {
          "name": "#%% md\n"
        },
        "id": "9OUWaZGkeKx3"
      },
      "source": [
        "3. Approximate the mean $\\mathbb{E}[X_{10}]$ of $X_{10}$ by running 10000 simulations with your code from 1.)"
      ]
    },
    {
      "cell_type": "code",
      "source": [
        "num = 10000\n",
        "\n",
        "# Calculate X_10\n",
        "final_values = np.array([simulate_SDE(n)[-1] for _ in range(num)])\n",
        "\n",
        "# Calculate the mean\n",
        "mean_X_10 = np.mean(final_values)\n",
        "mean_X_10"
      ],
      "metadata": {
        "colab": {
          "base_uri": "https://localhost:8080/"
        },
        "id": "Tmmms6vijiwF",
        "outputId": "9013f20f-8511-42e3-eda8-9ac828a09e33"
      },
      "execution_count": null,
      "outputs": [
        {
          "output_type": "execute_result",
          "data": {
            "text/plain": [
              "-0.29720609228408146"
            ]
          },
          "metadata": {},
          "execution_count": 20
        }
      ]
    }
  ],
  "metadata": {
    "kernelspec": {
      "display_name": "Python 3",
      "language": "python",
      "name": "python3"
    },
    "language_info": {
      "codemirror_mode": {
        "name": "ipython",
        "version": 3
      },
      "file_extension": ".py",
      "mimetype": "text/x-python",
      "name": "python",
      "nbconvert_exporter": "python",
      "pygments_lexer": "ipython3",
      "version": "3.7.6"
    },
    "colab": {
      "provenance": []
    }
  },
  "nbformat": 4,
  "nbformat_minor": 0
}